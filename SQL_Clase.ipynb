{
  "nbformat": 4,
  "nbformat_minor": 0,
  "metadata": {
    "colab": {
      "provenance": [],
      "authorship_tag": "ABX9TyMnMKetZ2V9dfJL5qvu3+n2",
      "include_colab_link": true
    },
    "kernelspec": {
      "name": "python3",
      "display_name": "Python 3"
    },
    "language_info": {
      "name": "python"
    }
  },
  "cells": [
    {
      "cell_type": "markdown",
      "metadata": {
        "id": "view-in-github",
        "colab_type": "text"
      },
      "source": [
        "<a href=\"https://colab.research.google.com/github/Brymg/Projects/blob/main/SQL_Clase.ipynb\" target=\"_parent\"><img src=\"https://colab.research.google.com/assets/colab-badge.svg\" alt=\"Open In Colab\"/></a>"
      ]
    },
    {
      "cell_type": "code",
      "execution_count": null,
      "metadata": {
        "colab": {
          "base_uri": "https://localhost:8080/"
        },
        "id": "Dh-VQZFyvAPB",
        "outputId": "cb1bc714-8dd8-4d97-c79c-d6ccf4af8a4d"
      },
      "outputs": [
        {
          "output_type": "stream",
          "name": "stdout",
          "text": [
            "Ejemplo Sql\n",
            "Cree la base de datos\n"
          ]
        }
      ],
      "source": [
        "import sqlite3 as sql\n",
        "\n",
        "def createDB():\n",
        "  conn = sql.connect(\"Clase.db\")\n",
        "  conn.commit()\n",
        "  conn.close()\n",
        "  print(\"Cree la base de datos\")\n",
        "\n",
        "#Creamos la tabla\n",
        "def tableDB():\n",
        "  conn = sql.connect(\"Clase.db\")\n",
        "  cursor = conn.cursor()\n",
        "  cursor.execute(\"\"\"CREATE TABLE  datos(\n",
        "    authorMeta/avatar TEXT,\n",
        "    authorMeta/bioLink TEXT,\n",
        "    authorMeta/commerceUserInfo/commerceUser TEXT,\n",
        "    authorMeta/digg INT,\n",
        "    authorMeta/fans INT,\n",
        "    authorMeta/following INT,\n",
        "    authorMeta/heart INT,\n",
        "    authorMeta/id INT,\n",
        "    authorMeta/name TEXT,\n",
        "    authorMeta/nickName TEXT,\n",
        "    authorMeta/privateAccount TEXT,\n",
        "    authorMeta/region TEXT,\n",
        "    authorMeta/roomId INT,\n",
        "    authorMeta/ttSeller TEXT,\n",
        "    authorMeta/verified TEXT,\n",
        "    authorMeta/video INT,\n",
        "    commentCount INT,\n",
        "    createTime INT,\n",
        "    createTimeISO INT,\n",
        "    diggCount INT,\n",
        "    id INT,\n",
        "    isAd INT,\n",
        "    locationCreated TEXT,\n",
        "    mediaUrls/0 TEXT,\n",
        "    mentions/0 TEXT,\n",
        "    mentions/1 TEXT,\n",
        "    mentions/2 TEXT,\n",
        "    mentions/3 TEXT,\n",
        "    musicMeta/coverMediumUrl TEXT,\n",
        "    musicMeta/musicAlbum TEXT,\n",
        "    musicMeta/musicAuthor TEXT,\n",
        "    musicMeta/musicId INT,\n",
        "    musicMeta/musicName TEXT,\n",
        "    musicMeta/musicOriginal TEXT,\n",
        "    musicMeta/playUrl TEXT,\n",
        "    playCount INT,\n",
        "    shareCount INT,\n",
        "    submittedVideoUrl TEXT,\n",
        "    text.1 TEXT,\n",
        "    videoMeta/coverUrl TEXT,\n",
        "    videoMeta/definition TEXT,\n",
        "    videoMeta/downloadAddr TEXT,\n",
        "    videoMeta/duration INT,\n",
        "    videoMeta/format TEXT,\n",
        "    videoMeta/height INT,\n",
        "    videoMeta/originalCoverUrl TEXT,\n",
        "    videoMeta/originalDownloadAddr TEXT,\n",
        "    videoMeta/width INT,\n",
        "    webVideoUrl TEXT)\n",
        "    );\"\"\"\n",
        "  )\n",
        "  conn.commit()\n",
        "  conn.close()\n",
        "  print(\"Cree la tabla\")\n",
        "\n",
        "def insertRow(authorMeta/avatar,\tauthorMeta/bioLink,\tauthorMeta/commerceUserInfo/commerceUser,\tauthorMeta/digg,\tauthorMeta/fans,\tauthorMeta/following,\tauthorMeta/heart,\tauthorMeta/id,\tauthorMeta/name,\tauthorMeta/nickName,\tauthorMeta/privateAccount,\tauthorMeta/region,\tauthorMeta/roomId,\tauthorMeta/ttSeller,\tauthorMeta/verified,\tauthorMeta/video,\tcommentCount,\tcreateTime,\tcreateTimeISO,\tdiggCount,\tid,\tisAd,\tlocationCreated,\tmediaUrls/0,\tmentions/0,\tmentions/1,\tmentions/2,\tmentions/3,\tmusicMeta/coverMediumUrl,\tmusicMeta/musicAlbum,\tmusicMeta/musicAuthor,\tmusicMeta/musicId,\tmusicMeta/musicName,\tmusicMeta/musicOriginal,\tmusicMeta/playUrl,\tplayCount,\tshareCount,\tsubmittedVideoUrl\ttext.1,\tvideoMeta/coverUrl,\tvideoMeta/definition,\tvideoMeta/downloadAddr,\tvideoMeta/duration,\tvideoMeta/format,\tvideoMeta/height,\tvideoMeta/originalCoverUrl,\tvideoMeta/originalDownloadAddr,\tvideoMeta/width,\twebVideoUrl):\n",
        "  conn = sql.connect(\"Clase.db\")\n",
        "  cursor = conn.cursor()\n",
        "  query = f\"INSERT INTO datos VALUES ({authorMeta/avatar},{authorMeta/bioLink},\t{authorMeta/commerceUserInfo/commerceUser},\t{authorMeta/digg},\t{authorMeta/fans},\t{authorMeta/following},\t{authorMeta/heart},\t{authorMeta/id},\t{authorMeta/name},\t{authorMeta/nickName},\t{authorMeta/privateAccount},\t{authorMeta/region},\t{authorMeta/roomId},\t{authorMeta/ttSeller},\t{authorMeta/verified},\t{authorMeta/video},\t{commentCount},\t{createTime},\t{createTimeISO},\t{diggCount},\t{id},\t{isAd},\t{locationCreated},\t{mediaUrls/0},\t{mentions/0},\t{mentions/1},\t{mentions/2},\t{mentions/3},\t{musicMeta/coverMediumUrl},\t{musicMeta/musicAlbum},\t{musicMeta/musicAuthor},\t{musicMeta/musicId},\t{musicMeta/musicName},\t{musicMeta/musicOriginal},\t{musicMeta/playUrl},\t{playCount},\t{shareCount},\t{submittedVideoUrl},\t{text.1},\t{videoMeta/coverUrl},\t{videoMeta/definition},\t{videoMeta/downloadAddr},\t{videoMeta/duration},\t{videoMeta/format},\t{videoMeta/height},\t{videoMeta/originalCoverUrl},\t{videoMeta/originalDownloadAddr},\t{videoMeta/width},\t{webVideoUrl});\"\n",
        "  cursor.execute(query)\n",
        "  conn.commit()\n",
        "  conn.close()\n",
        "\n",
        "def insertRow(list):\n",
        "  conn = sql.connect(\"Clase.db\")\n",
        "  cursor = conn.cursor()\n",
        "  query = f\"INSERT INTO datos VALUES (?,?,?,?,?,?,?,?,?,?,?,?,?,?,?,?,?,?,?,?,?,?,?,?,?,?,?,?,?,?,?,?,?,?,?,?,?,?,?,?,?,?,?,?,?,?,?,?,?,?,?,?,?,?,?,?,?,?,?,?,?,?,?,?,?,?,)\"\n",
        "  cursor.executemany(query,list)\n",
        "  conn.commit()\n",
        "  conn.close()\n",
        "  print(\"Agregue varios datos\")\n",
        "\n",
        "\n",
        "\n",
        "#PRINCIPAL\n",
        "\n",
        "if __name__ == \"__main__\":\n",
        "  print(\"Ejemplo Sql\")\n",
        "  createDB()\n",
        "  #tableDB()\n",
        "\n"
      ]
    }
  ]
}